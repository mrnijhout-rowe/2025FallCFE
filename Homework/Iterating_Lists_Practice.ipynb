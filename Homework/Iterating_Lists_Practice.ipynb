{
 "cells": [
  {
   "cell_type": "markdown",
   "id": "e74772c6",
   "metadata": {},
   "source": [
    "# Iterating Through Lists 🧭\n",
    "\n",
    "**Goal:** Practice looping over lists to compute totals, search, filter, transform, and track state.\n",
    "\n",
    "**What you’ll use today:**\n",
    "- `for` loops and `while` loops\n",
    "- `range(...)`, indexing, slicing\n",
    "- `len(...)`, `sum(...)` (for checking), `max(...)` (for checking)\n",
    "- `enumerate(...)` for index + value pairs\n",
    "\n",
    "> 💡 **Tip:** Prefer direct iteration (`for x in items`) when you don’t need the index. Use `enumerate(items)` when you do."
   ]
  },
  {
   "cell_type": "markdown",
   "id": "34cd3836",
   "metadata": {},
   "source": [
    "## 🔥 Warm‑Up: Direct vs Index Iteration\n",
    "Read this list and print each animal on its own line **two ways**:\n",
    "1) Direct iteration, 2) Index iteration using `range(len(...))`."
   ]
  },
  {
   "cell_type": "code",
   "execution_count": null,
   "id": "7aad342f",
   "metadata": {},
   "outputs": [],
   "source": [
    "animals = ['tiger', 'axolotl', 'crow', 'beaver']\n",
    "# TODO: direct iteration\n",
    "\n",
    "\n",
    "print('---')\n",
    "# TODO: index iteration\n"
   ]
  },
  {
   "cell_type": "markdown",
   "id": "da9a3495",
   "metadata": {},
   "source": [
    "## 1) 🧮 Count the odds\n",
    "Write `count_odds(nums)` that returns how many numbers in `nums` are odd."
   ]
  },
  {
   "cell_type": "code",
   "execution_count": null,
   "id": "a7080b5a",
   "metadata": {},
   "outputs": [],
   "source": [
    "def count_odds(nums):\n",
    "    \"\"\"Return the count of odd integers in nums.\"\"\"\n",
    "   \n",
    "\n",
    "# ✅ Quick check\n",
    "assert count_odds([2,3,4,5,6,7]) == 3\n",
    "assert count_odds([]) == 0\n",
    "print('count_odds looks good.')"
   ]
  },
  {
   "cell_type": "markdown",
   "id": "e7381a2e",
   "metadata": {},
   "source": [
    "## 2) 🔍 Find the first index\n",
    "Write `first_index(items, target)` that returns the **first index** of `target` in `items`,\n",
    "or `-1` if not found. Use a loop; do **not** call `.index()`."
   ]
  },
  {
   "cell_type": "code",
   "execution_count": null,
   "id": "f22333c6",
   "metadata": {},
   "outputs": [],
   "source": [
    "def first_index(items, target):\n",
    "   \n",
    "\n",
    "# ✅ Quick check\n",
    "assert first_index(['a','b','c','b'], 'b') == 1\n",
    "assert first_index([1,2,3], 5) == -1\n",
    "print('first_index looks good.')"
   ]
  },
  {
   "cell_type": "markdown",
   "id": "c0f4d7dd",
   "metadata": {},
   "source": [
    "## 3) 🧵 Keep the short words\n",
    "Write `short_words(words, max_len)` that returns a **new list** containing only the words\n",
    "with length `<= max_len`. Do not modify the input list."
   ]
  },
  {
   "cell_type": "code",
   "execution_count": null,
   "id": "88b27cca",
   "metadata": {},
   "outputs": [],
   "source": [
    "def short_words(words, max_len):\n",
    "    \n",
    "# ✅ Quick check\n",
    "assert short_words(['hi','there','yo','python'], 2) == ['hi','yo']\n",
    "print('short_words looks good.')"
   ]
  },
  {
   "cell_type": "markdown",
   "id": "c897db5c",
   "metadata": {},
   "source": [
    "## 4) 📈 Running maximum\n",
    "Write `running_max(nums)` that returns a list where each element is the maximum value\n",
    "seen **so far** while scanning left to right.\n",
    "\n",
    "Example: `[2,1,5,3] → [2,2,5,5]`"
   ]
  },
  {
   "cell_type": "code",
   "execution_count": null,
   "id": "7dcf1429",
   "metadata": {},
   "outputs": [],
   "source": [
    "def running_max(nums):\n",
    "   \n",
    "\n",
    "# ✅ Quick check\n",
    "assert running_max([2,1,5,3]) == [2,2,5,5]\n",
    "assert running_max([]) == []\n",
    "print('running_max looks good.')"
   ]
  },
  {
   "cell_type": "markdown",
   "id": "d152bc30",
   "metadata": {},
   "source": [
    "## 5) ♻️ Deduplicate while preserving order\n",
    "Write `dedupe(items)` that returns a **new list** with duplicates removed, keeping the\n",
    "**first** occurrence of each item and preserving original order. Do not use `set`."
   ]
  },
  {
   "cell_type": "code",
   "execution_count": null,
   "id": "c95c3f3b",
   "metadata": {},
   "outputs": [],
   "source": [
    "def dedupe(items):\n",
    "  \n",
    "\n",
    "# ✅ Quick check\n",
    "assert dedupe([3,1,3,2,1,2,3]) == [3,1,2]\n",
    "print('dedupe looks good.')"
   ]
  },
  {
   "cell_type": "markdown",
   "id": "f5c12a09",
   "metadata": {},
   "source": [
    "## 6) ⚖️ Weighted sum of parallel lists\n",
    "You have two same-length lists: `values` and `weights`. Compute the weighted sum.\n",
    "Write `weighted_sum(values, weights)` that returns the sum of `values[i]*weights[i]`."
   ]
  },
  {
   "cell_type": "code",
   "execution_count": null,
   "id": "93a9cac6",
   "metadata": {},
   "outputs": [],
   "source": [
    "def weighted_sum(values, weights):\n",
    "  \n",
    "# ✅ Quick check\n",
    "assert weighted_sum([3,4,5],[2,0,1]) == 11\n",
    "print('weighted_sum looks good.')"
   ]
  },
  {
   "cell_type": "markdown",
   "id": "f8c108c8",
   "metadata": {},
   "source": [
    "## 7) 🔎 All indexes of target\n",
    "Write `all_indexes(items, target)` that returns a list of **all** indexes where `target`\n",
    "appears. Return an empty list if it is not present."
   ]
  },
  {
   "cell_type": "code",
   "execution_count": null,
   "id": "9465a6eb",
   "metadata": {},
   "outputs": [],
   "source": [
    "def all_indexes(items, target):\n",
    "    \n",
    "\n",
    "# ✅ Quick check\n",
    "assert all_indexes(['a','b','a','c','a'],'a') == [0,2,4]\n",
    "assert all_indexes([1,2,3], 9) == []\n",
    "print('all_indexes looks good.')"
   ]
  },
  {
   "cell_type": "markdown",
   "id": "9f707b3c",
   "metadata": {},
   "source": [
    "## ⚠️ Common pitfalls\n",
    "- Modifying a list while iterating over it. Prefer building a **new** list instead.\n",
    "- Off‑by‑one errors with `range(...)`. Remember `range(n)` goes `0..n-1`.\n",
    "- Forgetting to return a value from a function.\n",
    "- Using `.index` when multiple matches exist and you need **all** of them."
   ]
  },
  {
   "cell_type": "markdown",
   "id": "097d8386",
   "metadata": {},
   "source": [
    "## 🧠 Reflection\n",
    "Answer in a sentence or two:\n",
    "1) When do you prefer `for x in items` over `for i in range(len(items))`?\n",
    "2) Why is `enumerate` useful?\n",
    "3) How would you detect duplicates in a single pass?"
   ]
  }
 ],
 "metadata": {
  "kernelspec": {
   "display_name": "Python 3",
   "language": "python",
   "name": "python3"
  },
  "language_info": {
   "codemirror_mode": {
    "name": "ipython",
    "version": 3
   },
   "file_extension": ".py",
   "mimetype": "text/x-python",
   "name": "python",
   "nbconvert_exporter": "python",
   "pygments_lexer": "ipython3",
   "version": "3.13.3"
  }
 },
 "nbformat": 4,
 "nbformat_minor": 5
}
