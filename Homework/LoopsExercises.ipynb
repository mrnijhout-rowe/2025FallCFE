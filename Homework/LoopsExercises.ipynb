{
 "cells": [
  {
   "cell_type": "markdown",
   "metadata": {},
   "source": [
    "# Introduction to Loops in Python 🔄\n",
    "\n",
    "Hello! In this notebook, we'll explore a core concept in programming: **loops**.\n",
    "\n",
    "Imagine you need to perform the same task multiple times, like printing 100 report cards. You could copy and paste the print command 100 times, but that would be inefficient. Loops provide a clean and powerful way to handle repetitive tasks.\n",
    "\n",
    "We will cover the two primary types of loops in Python:\n",
    "1.  **`for` loops**: Best for when you want to repeat a task a *specific* number of times.\n",
    "2.  **`while` loops**: Best for when you want to repeat a task *as long as* a certain condition is true."
   ]
  },
  {
   "cell_type": "markdown",
   "metadata": {},
   "source": [
    "--- \n",
    "## The `for` Loop\n",
    "\n",
    "A `for` loop is used for iterating over a sequence (such as a list, a string, or a range of numbers). The basic structure looks like this:\n",
    "\n",
    "```python\n",
    "for item in sequence:\n",
    "    # Code to run for each item\n",
    "    # This block must be indented!\n",
    "```\n",
    "\n",
    "The `range()` function is a very common partner for `for` loops. For example, `range(5)` creates a sequence of numbers from 0 up to (but not including) 5."
   ]
  },
  {
   "cell_type": "markdown",
   "metadata": {},
   "source": [
    "### Example 1: Using `range()`"
   ]
  },
  {
   "cell_type": "code",
   "execution_count": null,
   "metadata": {},
   "outputs": [],
   "source": [
    "# The loop will assign 0, 1, 2, 3, and 4 to the `num` variable, one by one.\n",
    "\n",
    "for num in range(5):\n",
    "    print(\"The current number is:\", num)\n",
    "\n",
    "print(\"Loop has finished.\")"
   ]
  },
  {
   "cell_type": "code",
   "execution_count": null,
   "metadata": {},
   "outputs": [],
   "source": [
    "# What do you think this loop will print? Run it and see!\n",
    "\n",
    "for num in range(2, 7):\n",
    "    print(num)\n",
    "\n",
    "print(\"Done.\")"
   ]
  },
  {
   "cell_type": "markdown",
   "metadata": {},
   "source": [
    "### Example 2: Iterating Over a String\n",
    "\n",
    "You can also loop through each character in a string."
   ]
  },
  {
   "cell_type": "code",
   "execution_count": null,
   "metadata": {},
   "outputs": [],
   "source": [
    "school_name = \"NCSSM\"\n",
    "\n",
    "for character in school_name:\n",
    "    print(\"Found character: \"+ character)"
   ]
  },
  {
   "cell_type": "markdown",
   "metadata": {},
   "source": [
    "### ✍️ Your Turn!\n",
    "\n",
    "In the cell below, write a `for` loop that prints the first 10 multiples of 3 (3, 6, 9, ..., 30). "
   ]
  },
  {
   "cell_type": "code",
   "execution_count": null,
   "metadata": {},
   "outputs": [],
   "source": [
    "# Write your code here"
   ]
  },
  {
   "cell_type": "markdown",
   "metadata": {},
   "source": [
    "--- \n",
    "## The `while` Loop\n",
    "\n",
    "A `while` loop runs as long as a specified condition is `True`. This is useful when you don't know exactly how many times you'll need to loop.\n",
    "\n",
    "The structure looks like this:\n",
    "\n",
    "```python\n",
    "while some_condition_is_true:\n",
    "    # Code to run\n",
    "    # Something in this block must eventually make the\n",
    "    # condition false!\n",
    "```\n",
    "\n",
    "A successful `while` loop needs three parts:\n",
    "1.  **Initialization**: Set up a variable *before* the loop starts.\n",
    "2.  **Condition**: The test the loop checks *before* each iteration.\n",
    "3.  **Update**: A change to the variable inside the loop that moves it closer to making the condition false."
   ]
  },
  {
   "cell_type": "markdown",
   "metadata": {},
   "source": [
    "### Example: A Simple Countdown"
   ]
  },
  {
   "cell_type": "code",
   "execution_count": null,
   "metadata": {},
   "outputs": [],
   "source": [
    "counter = 5  # 1. Initialization\n",
    "\n",
    "while counter > 0:  # 2. Condition\n",
    "    print(\"T-minus \", counter)\n",
    "    counter = counter - 1  # 3. Update (or counter -= 1)\n",
    "\n",
    "print(\"Blast off!\")"
   ]
  },
  {
   "cell_type": "markdown",
   "metadata": {},
   "source": [
    "### ✍️ Your Turn!\n",
    "\n",
    "Write a `while` loop that starts with a variable `num` at 1 and keeps doubling it (`num = num * 2`) until it is greater than 100. Print the value of `num` in each step."
   ]
  },
  {
   "cell_type": "code",
   "execution_count": null,
   "metadata": {},
   "outputs": [],
   "source": [
    "# Write your code here\n",
    "num = 1\n",
    "\n",
    "# Your while loop condition should check if num is less than or equal to 100"
   ]
  },
  {
   "cell_type": "markdown",
   "metadata": {},
   "source": [
    "--- \n",
    "## Common Pitfalls: The Infinite Loop ⚠️\n",
    "\n",
    "The most frequent issue with `while` loops is creating an **infinite loop**. This happens when the loop's condition *never* becomes `False`, causing your program to get stuck running forever.\n",
    "\n",
    "This usually happens when you forget the **update** step.\n",
    "\n",
    "The code below is an example of an infinite loop. I've commented it out so it doesn't run by accident. If you choose to run it, you will need to interrupt the kernel to stop it (press the stop button ⏹️ in the toolbar)."
   ]
  },
  {
   "cell_type": "code",
   "execution_count": null,
   "metadata": {},
   "outputs": [],
   "source": [
    "# DANGER: An infinite loop!\n",
    "\n",
    "# x = 0\n",
    "\n",
    "# while x < 10:\n",
    "#     print(\"I'm stuck in this loop!\")\n",
    "#     # Because `x` is never updated, `x < 10` is always true."
   ]
  },
  {
   "cell_type": "markdown",
   "metadata": {},
   "source": [
    "--- \n",
    "## Practice Exercises 🏋️‍♀️\n",
    "\n",
    "Time to apply what you've learned."
   ]
  },
  {
   "cell_type": "markdown",
   "metadata": {},
   "source": [
    "### Exercise 1: Sum of Numbers\n",
    "\n",
    "Use a `for` loop to calculate the sum of integers from 1 to 10. You'll need a variable outside the loop to keep track of the running total. Print the final result after the loop."
   ]
  },
  {
   "cell_type": "code",
   "execution_count": null,
   "metadata": {},
   "outputs": [],
   "source": [
    "total = 0\n",
    "\n",
    "# Write your for loop using range(1, 11) here\n",
    "# Inside the loop, add the current number to the total\n",
    "\n",
    "\n",
    "print(\"The final sum is:\", total) # The correct output should be 55"
   ]
  },
  {
   "cell_type": "markdown",
   "metadata": {},
   "source": [
    "### Exercise 2: Debug This! 🐛\n",
    "\n",
    "The code below is supposed to count down from 10 to 1. It has an infinite loop! Find the mistake and fix it."
   ]
  },
  {
   "cell_type": "code",
   "execution_count": null,
   "metadata": {},
   "outputs": [],
   "source": [
    "# Fix this code!\n",
    "i = 10\n",
    "while i > 0:\n",
    "    print(i)\n",
    "    i = i + 1 # Hint: Is this moving toward or away from the end condition?"
   ]
  },
  {
   "cell_type": "markdown",
   "metadata": {},
   "source": [
    "### Exercise 3: Debug This Too! 🐞\n",
    "\n",
    "This code should print the squares of the numbers 0 through 4, but it produces an `IndentationError`. Fix the code so it runs correctly."
   ]
  },
  {
   "cell_type": "code",
   "execution_count": null,
   "metadata": {},
   "outputs": [],
   "source": [
    "# Fix this code!\n",
    "for num in range(5):\n",
    "print(\"The square of\",num, \"is\",num * num)"
   ]
  }
 ],
 "metadata": {
  "kernelspec": {
   "display_name": "Python 3",
   "language": "python",
   "name": "python3"
  },
  "language_info": {
   "codemirror_mode": {
    "name": "ipython",
    "version": 3
   },
   "file_extension": ".py",
   "mimetype": "text/x-python",
   "name": "python",
   "nbconvert_exporter": "python",
   "pygments_lexer": "ipython3",
   "version": "3.13.3"
  }
 },
 "nbformat": 4,
 "nbformat_minor": 4
}
