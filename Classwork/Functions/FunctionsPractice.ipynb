{
  "nbformat": 4,
  "nbformat_minor": 0,
  "metadata": {
    "colab": {
      "provenance": []
    },
    "kernelspec": {
      "name": "python3",
      "display_name": "Python 3"
    },
    "language_info": {
      "name": "python"
    }
  },
  "cells": [
    {
      "cell_type": "markdown",
      "source": [
        "### Work Together: `sum_digits(number)`\n",
        "\n",
        "Let's begin with a function that takes a number and sums its individual digits. For example, if the input is `123`, the function should return `6` (because $1+2+3=6$). This is a great exercise for practicing **while loops** and the **modulo operator (%)**, which helps us get the last digit of a number.\n",
        "\n",
        "Our starter code will include the function definition and some example calls. Your task is to fill in the loop and logic to make it work!"
      ],
      "metadata": {
        "id": "C74VJoMdIdGN"
      }
    },
    {
      "cell_type": "code",
      "source": [
        "def sum_digits(number):\n",
        "    \"\"\"\n",
        "    Calculates the sum of the digits of a given number.\n",
        "    Example: sum_digits(123) should return 6.\n",
        "    \"\"\"\n",
        "    total = 0\n",
        "    # Your code goes here\n",
        "    # Use a while loop and the modulo operator (%) to get each digit\n",
        "    # And integer division (//) to remove the last digit\n",
        "\n",
        "    return total\n",
        "\n",
        "# Example usage (uncomment to test your code)\n",
        "# print(f\"The sum of the digits of 123 is: {sum_digits(123)}\")\n",
        "# print(f\"The sum of the digits of 9876 is: {sum_digits(9876)}\")"
      ],
      "metadata": {
        "id": "sBehB_L4ItwW"
      },
      "execution_count": null,
      "outputs": []
    },
    {
      "cell_type": "markdown",
      "source": [
        "### Your Turn: `count_digits(number)`\n",
        "\n",
        "Now that you've mastered summing digits, work with your partner to write a function that counts how many digits are in a number. For example, `12345` has 5 digits.\n",
        "\n",
        "You can use a similar approach to the `sum_digits` function. The key is to think about a counter instead of a sum. Don't forget to consider the edge case of the number `0`, which has one digit."
      ],
      "metadata": {
        "id": "8LTQLnBJJZtq"
      }
    },
    {
      "cell_type": "code",
      "source": [
        "def count_digits(number):\n",
        "    \"\"\"\n",
        "    Counts the number of digits in an integer.\n",
        "    Example: count_digits(12345) should return 5.\n",
        "    \"\"\"\n",
        "    # Don't forget to handle the special case for the number 0\n",
        "\n",
        "    count = 0\n",
        "    # Your code goes here\n",
        "    # Use a while loop to count each digit\n",
        "\n",
        "    return count\n",
        "\n",
        "# Example usage (uncomment to test your code)\n",
        "# print(f\"The number 12345 has {count_digits(12345)} digits.\")\n",
        "# print(f\"The number 0 has {count_digits(0)} digits.\")"
      ],
      "metadata": {
        "id": "Fwf0fY_wJgDb"
      },
      "execution_count": null,
      "outputs": []
    },
    {
      "cell_type": "markdown",
      "source": [
        "### Work Together: `reverse_number(number)`\n",
        "\n",
        "Next, let's reverse a number. For example, `1234` should become `4321`. This is a bit more complex, but it builds directly on our previous work. We will use a **while loop** to extract each digit and use a variable to build the reversed number. This helps us practice building a new value within a loop."
      ],
      "metadata": {
        "id": "X8iyOqs8Jp66"
      }
    },
    {
      "cell_type": "code",
      "source": [
        "def reverse_number(number):\n",
        "    \"\"\"\n",
        "    Reverses the digits of a given number.\n",
        "    Example: reverse_number(1234) should return 4321.\n",
        "    \"\"\"\n",
        "    reversed_num = 0\n",
        "    # Your code goes here\n",
        "    # Use a while loop to extract digits and build the reversed number\n",
        "\n",
        "    return reversed_num\n",
        "\n",
        "# Example usage (uncomment to test your code)\n",
        "# print(f\"The reverse of 1234 is: {reverse_number(1234)}\")\n",
        "# print(f\"The reverse of 507 is: {reverse_number(507)}\")"
      ],
      "metadata": {
        "id": "LZX2-D8LJwjq"
      },
      "execution_count": null,
      "outputs": []
    },
    {
      "cell_type": "markdown",
      "source": [
        "### Your Turn: `is_palindrome_number(number)`\n",
        "\n",
        "Your final challenge is to write a function that checks if a number is a **palindrome**. A number is a palindrome if it reads the same backward as it does forward, like `121` or `747`.\n",
        "\n",
        "Your solution should be clever and efficient. You can use the `reverse_number` function you just created to help you!"
      ],
      "metadata": {
        "id": "MC8pKrIxJ14E"
      }
    },
    {
      "cell_type": "code",
      "source": [
        "def is_palindrome_number(number):\n",
        "    \"\"\"\n",
        "    Checks if a number is a palindrome.\n",
        "    Example: is_palindrome_number(121) should return True.\n",
        "    \"\"\"\n",
        "    # You can reuse or adapt the logic from the reverse_number function\n",
        "    # The key is to compare the original number to its reversed version.\n",
        "\n",
        "    return False # Placeholder\n",
        "\n",
        "# Example usage (uncomment to test your code)\n",
        "# print(f\"Is 121 a palindrome? {is_palindrome_number(121)}\")\n",
        "# print(f\"Is 123 a palindrome? {is_palindrome_number(123)}\")"
      ],
      "metadata": {
        "id": "5HB9pIz7J1ku"
      },
      "execution_count": null,
      "outputs": []
    }
  ]
}