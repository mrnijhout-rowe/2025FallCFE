{
 "cells": [
  {
   "cell_type": "markdown",
   "id": "4a2e4b30",
   "metadata": {},
   "source": [
    "# For-Loops Lab (Functions + Self-Checks)\n",
    "\n",
    "Complete each function using a `for` loop or `range`. Do **not** use `print` inside the functions.  \n",
    "Each task includes `assert` statements so you can self-check. If an assert fails, fix your code and re-run.\n"
   ]
  },
  {
   "cell_type": "markdown",
   "id": "19a4f5ac",
   "metadata": {},
   "source": [
    "## Q1: Numbers 35 to 45\n",
    "Return a list of the numbers **35 through 45** inclusive."
   ]
  },
  {
   "cell_type": "code",
   "execution_count": null,
   "id": "72871db6",
   "metadata": {},
   "outputs": [],
   "source": [
    "def numbers_35_to_45():\n",
    "    result = []  # build your list here with a for loop\n",
    "    return result\n",
    "\n",
    "# self-check\n",
    "assert numbers_35_to_45() == [35,36,37,38,39,40,41,42,43,44,45]\n",
    "print('numbers_35_to_45 looks good.')"
   ]
  },
  {
   "cell_type": "markdown",
   "id": "79450053",
   "metadata": {},
   "source": [
    "## Q2: Numbers 26 to 40\n",
    "Return a list containing **26 through 40** inclusive."
   ]
  },
  {
   "cell_type": "code",
   "execution_count": null,
   "id": "e31c3e62",
   "metadata": {},
   "outputs": [],
   "source": [
    "def numbers_26_to_40():\n",
    "    result = []\n",
    "    return result\n",
    "\n",
    "# self-checks\n",
    "xs = numbers_26_to_40()\n",
    "assert xs[:3] == [26,27,28]\n",
    "assert xs[-3:] == [38,39,40]\n",
    "assert len(xs) == 15\n",
    "print('numbers_26_to_40 looks good.')"
   ]
  },
  {
   "cell_type": "markdown",
   "id": "99c097e9",
   "metadata": {},
   "source": [
    "## Q3: Odd Numbers 1 to 10\n",
    "Return a list of the numbers from **1 to 10** stepping by **2**."
   ]
  },
  {
   "cell_type": "code",
   "execution_count": null,
   "id": "39e3b5b8",
   "metadata": {},
   "outputs": [],
   "source": [
    "def odds_1_to_10():\n",
    "    result = []\n",
    "    return result\n",
    "\n",
    "assert odds_1_to_10() == [1,3,5,7,9]\n",
    "print('odds_1_to_10 looks good.')"
   ]
  },
  {
   "cell_type": "markdown",
   "id": "c09f4c75",
   "metadata": {},
   "source": [
    "## Q4: Multiples of 7 up to 77\n",
    "Return `[0, 7, 14, …, 77]`."
   ]
  },
  {
   "cell_type": "code",
   "execution_count": null,
   "id": "83cd1d1f",
   "metadata": {},
   "outputs": [],
   "source": [
    "def multiples_of_7_to_77():\n",
    "    result = []\n",
    "    return result\n",
    "\n",
    "assert multiples_of_7_to_77() == [0,7,14,21,28,35,42,49,56,63,70,77]\n",
    "print('multiples_of_7_to_77 looks good.')"
   ]
  },
  {
   "cell_type": "markdown",
   "id": "48204dd6",
   "metadata": {},
   "source": [
    "## Q5: Descending by 6\n",
    "Return `[76, 70, 64, …, 34]`."
   ]
  },
  {
   "cell_type": "code",
   "execution_count": null,
   "id": "6388d6d9",
   "metadata": {},
   "outputs": [],
   "source": [
    "def descending_by_6():\n",
    "    result = []\n",
    "    return result\n",
    "\n",
    "assert descending_by_6() == [76,70,64,58,52,46,40,34]\n",
    "print('descending_by_6 looks good.')"
   ]
  },
  {
   "cell_type": "markdown",
   "id": "e33e9f74",
   "metadata": {},
   "source": [
    "## Q6: Even Numbers 350–450\n",
    "Return a list of all even numbers from **350 through 450** inclusive."
   ]
  },
  {
   "cell_type": "code",
   "execution_count": null,
   "id": "acde6661",
   "metadata": {},
   "outputs": [],
   "source": [
    "def evens_350_to_450():\n",
    "    result = []\n",
    "    return result\n",
    "\n",
    "out = evens_350_to_450()\n",
    "assert out[0] == 350\n",
    "assert out[-1] == 450\n",
    "assert all(x % 2 == 0 for x in out)\n",
    "print('evens_350_to_450 looks good.')"
   ]
  },
  {
   "cell_type": "markdown",
   "id": "71718609",
   "metadata": {},
   "source": [
    "## Q7: Sum of Multiples of 7 up to 70\n",
    "Return the sum of `7 + 14 + … + 70`."
   ]
  },
  {
   "cell_type": "code",
   "execution_count": null,
   "id": "1226bfda",
   "metadata": {},
   "outputs": [],
   "source": [
    "def sum_multiples_of_7_to_70():\n",
    "    total = 0\n",
    "    return total\n",
    "\n",
    "assert sum_multiples_of_7_to_70() == 385\n",
    "print('sum_multiples_of_7_to_70 looks good.')"
   ]
  },
  {
   "cell_type": "markdown",
   "id": "2a0d8af9",
   "metadata": {},
   "source": [
    "## Q8: Running Sum of 15,20,25,30,…50\n",
    "Return the running totals: `[15, 35, 60, 90, 125, 165, 210, 260]`."
   ]
  },
  {
   "cell_type": "code",
   "execution_count": null,
   "id": "7c1d7450",
   "metadata": {},
   "outputs": [],
   "source": [
    "def running_sum_15_to_50():\n",
    "    result = []\n",
    "    return result\n",
    "\n",
    "assert running_sum_15_to_50() == [15,35,60,90,125,165,210,260]\n",
    "print('running_sum_15_to_50 looks good.')"
   ]
  },
  {
   "cell_type": "markdown",
   "id": "eedcd44f",
   "metadata": {},
   "source": []
  }
 ],
 "metadata": {
  "kernelspec": {
   "display_name": "Python 3",
   "name": "python3"
  }
 },
 "nbformat": 4,
 "nbformat_minor": 5
}
