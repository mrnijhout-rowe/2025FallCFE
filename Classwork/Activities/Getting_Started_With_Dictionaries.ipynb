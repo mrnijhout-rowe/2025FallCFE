{
  "cells": [
    {
      "cell_type": "markdown",
      "metadata": {
        "id": "DjPG2ufW4KNq"
      },
      "source": [
        "# Getting Started With Dictionaries"
      ]
    },
    {
      "cell_type": "markdown",
      "metadata": {
        "id": "ausARvkz3Cij"
      },
      "source": [
        "## Practice #1: Counting Letters\n",
        "\n",
        "### Task:\n",
        "- Write a Python program that counts how many times each letter appears in a given word.\n",
        "- Store the counts in a dictionary and print the dictionary.\n",
        "\n",
        "**Example:**  \n",
        "If the word is `\"banana\"`, your dictionary should print:\n",
        "\n",
        "{'b': 1, 'a': 3, 'n': 2}"
      ]
    },
    {
      "cell_type": "code",
      "execution_count": null,
      "metadata": {
        "id": "sSpuQQSa3NUW"
      },
      "outputs": [],
      "source": [
        "# Your Name\n",
        "# Date\n",
        "# Counting Letters Assignment\n",
        "\n",
        "word = \"banana\"\n",
        "letter_counts = {}\n",
        "\n",
        "# Your code here\n",
        "\n",
        "print(letter_counts)"
      ]
    },
    {
      "cell_type": "markdown",
      "metadata": {
        "id": "s4iQtBcs3Rf3"
      },
      "source": [
        "## Practice #2: Dictionary of Squares\n",
        "\n",
        "### Task:\n",
        "- Create a dictionary named `squares` where keys are integers from 1 to 10, and values are their squares.\n",
        "- Then loop through the dictionary, printing each number and its square in a neat sentence.\n",
        "\n",
        "**Example Output:**\n",
        "1 squared is 1 2 squared is 4 ... 10 squared is 100"
      ]
    },
    {
      "cell_type": "code",
      "execution_count": null,
      "metadata": {
        "id": "aGpNlj_J3Xme"
      },
      "outputs": [],
      "source": [
        "# Your Name\n",
        "# Date\n",
        "# Dictionary of Squares Assignment\n",
        "\n",
        "squares = {}\n",
        "\n",
        "# Your code here\n"
      ]
    },
    {
      "cell_type": "markdown",
      "metadata": {
        "id": "wMjHAzmq3fx9"
      },
      "source": [
        "## Practice #3: Student Grades Analyzer\n",
        "\n",
        "### Task:\n",
        "Given the following dictionary of students and their test scores:\n",
        "```python\n",
        "grades = {'Alex': [88, 92, 85],\n",
        "          'Jordan': [70, 80, 90],\n",
        "          'Taylor': [95, 90, 92]}\n",
        "```\n",
        "*   Calculate and print each student's average grade.\n",
        "*   Print which student has the highest average.\n",
        "\n",
        "**Example Output:**\n",
        "\n",
        "Alex average: 88.3\n",
        "Jordan average: 80.0\n",
        "Taylor average: 92.3\n",
        "Top student: Taylor\n"
      ]
    },
    {
      "cell_type": "code",
      "execution_count": null,
      "metadata": {
        "id": "JSbMGnl34FTU"
      },
      "outputs": [],
      "source": [
        "# Your Name\n",
        "# Date\n",
        "# Student Grades Analyzer Assignment\n",
        "\n",
        "grades = {'Alex': [88, 92, 85],\n",
        "          'Jordan': [70, 80, 90],\n",
        "          'Taylor': [95, 90, 92]}\n",
        "\n",
        "# Your code here"
      ]
    }
  ],
  "metadata": {
    "colab": {
      "provenance": []
    },
    "kernelspec": {
      "display_name": "Python 3",
      "name": "python3"
    },
    "language_info": {
      "name": "python"
    }
  },
  "nbformat": 4,
  "nbformat_minor": 0
}
